{
  "nbformat": 4,
  "nbformat_minor": 0,
  "metadata": {
    "colab": {
      "provenance": [],
      "gpuType": "T4"
    },
    "kernelspec": {
      "name": "python3",
      "display_name": "Python 3"
    },
    "language_info": {
      "name": "python"
    },
    "accelerator": "GPU"
  },
  "cells": [
    {
      "cell_type": "code",
      "execution_count": 16,
      "metadata": {
        "id": "sw98ycrZSkkD"
      },
      "outputs": [],
      "source": [
        "%matplotlib inline\n",
        "\n",
        "\n",
        "import os\n",
        "import time\n",
        "import numpy as np\n",
        "import pandas as pd\n",
        "import matplotlib.pyplot as plt\n",
        "from sklearn.model_selection import train_test_split\n",
        "import tensorflow.keras as keras\n",
        "from tensorflow.keras import layers\n",
        "from tensorflow.keras.layers import Dense, Input, Flatten, Conv2D, BatchNormalization, \\\n",
        "                                    Activation, Dropout, MaxPooling2D\n",
        "from tensorflow.keras.models import Sequential\n",
        "from tensorflow.keras.optimizers import Adam\n",
        "from tensorflow.keras.callbacks import TensorBoard\n",
        "from PIL import Image\n",
        "from tensorflow.keras.preprocessing.image import ImageDataGenerator\n",
        "\n",
        "import cv2"
      ]
    },
    {
      "cell_type": "code",
      "source": [
        "data=np.load('flatland_train.npz')"
      ],
      "metadata": {
        "id": "3-lgxCioSteE"
      },
      "execution_count": 2,
      "outputs": []
    },
    {
      "cell_type": "code",
      "source": [
        "X=data['X']\n",
        "y=data['y']"
      ],
      "metadata": {
        "id": "0Vt94raqSvLg"
      },
      "execution_count": 48,
      "outputs": []
    },
    {
      "cell_type": "code",
      "source": [
        "y[y != 0] -= 2    # Correct labels so that triangle is mapped to class 1\n",
        "X = X / 255"
      ],
      "metadata": {
        "id": "coIhK7IXSy29"
      },
      "execution_count": 49,
      "outputs": []
    },
    {
      "cell_type": "code",
      "source": [
        "i=0\n",
        "X_naujas=[]\n",
        "for im in X:\n",
        "  resized_img=cv2.resize(im,(25,25))\n",
        "  X_naujas.append(resized_img)\n",
        "\n",
        "\n",
        "X=np.array(X_naujas)"
      ],
      "metadata": {
        "id": "1Z4fgc5JS1cK"
      },
      "execution_count": 50,
      "outputs": []
    },
    {
      "cell_type": "code",
      "source": [
        "data_augmentation=keras.Sequential([\n",
        "    layers.RandomTranslation(\n",
        "    0,\n",
        "    0.8,\n",
        "\n",
        ")\n",
        "])"
      ],
      "metadata": {
        "id": "iuN_maz2bfcy"
      },
      "execution_count": 6,
      "outputs": []
    },
    {
      "cell_type": "code",
      "source": [
        "a=data_augmentation(X)\n",
        "a=a.numpy()\n",
        "a.shape"
      ],
      "metadata": {
        "colab": {
          "base_uri": "https://localhost:8080/"
        },
        "id": "j2rc1FaxiEjM",
        "outputId": "a40ae82a-d71b-45ff-f7ad-72a8e0dfb7ee"
      },
      "execution_count": 12,
      "outputs": [
        {
          "output_type": "execute_result",
          "data": {
            "text/plain": [
              "(10000, 25, 25)"
            ]
          },
          "metadata": {},
          "execution_count": 12
        }
      ]
    },
    {
      "cell_type": "code",
      "source": [
        "X = np.expand_dims(X, (-1))"
      ],
      "metadata": {
        "id": "M8VZHC-emcSm"
      },
      "execution_count": 51,
      "outputs": []
    },
    {
      "cell_type": "code",
      "source": [
        "X.shape"
      ],
      "metadata": {
        "colab": {
          "base_uri": "https://localhost:8080/"
        },
        "id": "axIdNy2Pmft6",
        "outputId": "5190e892-ea46-404e-9f07-f296688ecfe9"
      },
      "execution_count": 52,
      "outputs": [
        {
          "output_type": "execute_result",
          "data": {
            "text/plain": [
              "(10000, 25, 25, 1)"
            ]
          },
          "metadata": {},
          "execution_count": 52
        }
      ]
    },
    {
      "cell_type": "code",
      "source": [
        "train_datagen = ImageDataGenerator(rotation_range=45,  #Too much rotation may hurt accuracy, especially for small datasets. Try 15 and 45\n",
        "    width_shift_range=0.3,  #try 0.1, 0.3\n",
        "    height_shift_range=0.3, #try 0.1, 0.3\n",
        "    zoom_range = 0.3, #try 0.1, 0.3\n",
        ")\n",
        "\n",
        "#train_datagen.fit(X_train)\n",
        "\n",
        "train_generator = train_datagen.flow(\n",
        "    X_train,\n",
        "    y_train,\n",
        "    batch_size = 256)  #images to generate in a batch"
      ],
      "metadata": {
        "id": "P5BqNkJLkmmZ"
      },
      "execution_count": 54,
      "outputs": []
    },
    {
      "cell_type": "code",
      "source": [
        "plt.imshow(X[5], cmap='gray')\n",
        "plt.axis('off')\n",
        "plt.show()"
      ],
      "metadata": {
        "id": "bCiBX-LgfWxo"
      },
      "execution_count": null,
      "outputs": []
    },
    {
      "cell_type": "code",
      "source": [
        "plt.imshow(data_augmentation(X)[5], cmap='gray')\n",
        "plt.axis('off')\n",
        "plt.show()"
      ],
      "metadata": {
        "id": "RUcl4BfRfGSQ"
      },
      "execution_count": null,
      "outputs": []
    },
    {
      "cell_type": "code",
      "source": [
        "X_train, X_test, y_train, y_test=train_test_split(X,y, test_size=0.3, random_state=42)"
      ],
      "metadata": {
        "id": "_M6CT3kMS6TS"
      },
      "execution_count": 53,
      "outputs": []
    },
    {
      "cell_type": "code",
      "source": [
        "model = keras.models.Sequential([\n",
        "    layers.Conv2D(32, kernel_size=(3, 3), input_shape=[25, 25, 1]),\n",
        "    MaxPooling2D(pool_size=(2, 2),strides=1),\n",
        "    layers.Conv2D(32, kernel_size=(3, 3)),\n",
        "    MaxPooling2D(pool_size=(2, 2),strides=1),\n",
        "    layers.Conv2D(16, kernel_size=(3, 3)),\n",
        "    MaxPooling2D(pool_size=(2, 2),strides=2),\n",
        "    Dropout(0.25),\n",
        "    layers.Flatten(input_shape=[25, 25]),\n",
        "    layers.Dense(64, activation=\"relu\"),\n",
        "    Dropout(0.2),\n",
        "    layers.Dense(5, activation=\"softmax\")])\n",
        "\n",
        "model.compile(loss=\"sparse_categorical_crossentropy\",\n",
        "              optimizer=\"adam\",\n",
        "              metrics=[\"accuracy\"])\n",
        "model.summary()"
      ],
      "metadata": {
        "colab": {
          "base_uri": "https://localhost:8080/"
        },
        "id": "0v3YPRqeTAMz",
        "outputId": "2699f474-8527-47b2-8d5b-d2f3633f1cda"
      },
      "execution_count": 56,
      "outputs": [
        {
          "output_type": "stream",
          "name": "stdout",
          "text": [
            "Model: \"sequential_6\"\n",
            "_________________________________________________________________\n",
            " Layer (type)                Output Shape              Param #   \n",
            "=================================================================\n",
            " conv2d_15 (Conv2D)          (None, 23, 23, 32)        320       \n",
            "                                                                 \n",
            " max_pooling2d_15 (MaxPooli  (None, 22, 22, 32)        0         \n",
            " ng2D)                                                           \n",
            "                                                                 \n",
            " conv2d_16 (Conv2D)          (None, 20, 20, 32)        9248      \n",
            "                                                                 \n",
            " max_pooling2d_16 (MaxPooli  (None, 19, 19, 32)        0         \n",
            " ng2D)                                                           \n",
            "                                                                 \n",
            " conv2d_17 (Conv2D)          (None, 17, 17, 16)        4624      \n",
            "                                                                 \n",
            " max_pooling2d_17 (MaxPooli  (None, 8, 8, 16)          0         \n",
            " ng2D)                                                           \n",
            "                                                                 \n",
            " dropout_10 (Dropout)        (None, 8, 8, 16)          0         \n",
            "                                                                 \n",
            " flatten_5 (Flatten)         (None, 1024)              0         \n",
            "                                                                 \n",
            " dense_10 (Dense)            (None, 64)                65600     \n",
            "                                                                 \n",
            " dropout_11 (Dropout)        (None, 64)                0         \n",
            "                                                                 \n",
            " dense_11 (Dense)            (None, 5)                 325       \n",
            "                                                                 \n",
            "=================================================================\n",
            "Total params: 80117 (312.96 KB)\n",
            "Trainable params: 80117 (312.96 KB)\n",
            "Non-trainable params: 0 (0.00 Byte)\n",
            "_________________________________________________________________\n"
          ]
        }
      ]
    },
    {
      "cell_type": "code",
      "source": [
        "model.fit(train_generator, epochs=70, batch_size=256)"
      ],
      "metadata": {
        "id": "8IEJwlV7TCyh"
      },
      "execution_count": null,
      "outputs": []
    },
    {
      "cell_type": "code",
      "source": [
        "pred = model.predict(X_test).argmax(axis=1)\n",
        "print('Accuracy on test set - {0:.02%}'.format((pred == y_test).mean()))"
      ],
      "metadata": {
        "colab": {
          "base_uri": "https://localhost:8080/"
        },
        "id": "SdKzCmwHTFn4",
        "outputId": "08afcf8c-1941-4f9b-8c45-900ebabcec51"
      },
      "execution_count": 59,
      "outputs": [
        {
          "output_type": "stream",
          "name": "stdout",
          "text": [
            "94/94 [==============================] - 0s 3ms/step\n",
            "Accuracy on test set - 93.73%\n"
          ]
        }
      ]
    },
    {
      "cell_type": "code",
      "source": [
        "model.save('model.h5')"
      ],
      "metadata": {
        "id": "mbAMiMWdpDrZ"
      },
      "execution_count": 61,
      "outputs": []
    }
  ]
}